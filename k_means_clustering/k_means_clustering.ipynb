{
 "cells": [
  {
   "cell_type": "code",
   "execution_count": 31,
   "metadata": {
    "collapsed": true
   },
   "outputs": [],
   "source": [
    "%matplotlib inline\n",
    "import random\n",
    "import numpy as np\n",
    "from matplotlib import pyplot as plt\n",
    "plt.rcParams['figure.figsize'] = (16, 9)\n",
    "plt.style.use('ggplot')"
   ]
  },
  {
   "cell_type": "markdown",
   "metadata": {},
   "source": [
    "An ensemble of randomly generated points does not possess a natural cluster-like structure. To make things slightly more tricky, we want to modify the function that generates our initial data points to output a more interesting structure. The following routine constructs a specified number of Gaussian distributed clusters with random variances:"
   ]
  },
  {
   "cell_type": "code",
   "execution_count": 32,
   "metadata": {},
   "outputs": [],
   "source": [
    "def init_board_gauss(N, k):\n",
    "    n = float(N)/k\n",
    "    X = []\n",
    "    for i in range(k):\n",
    "        c = (random.uniform(-1, 1), random.uniform(-1, 1))\n",
    "        s = random.uniform(0.05,0.5)\n",
    "        x = []\n",
    "        while len(x) < n:\n",
    "            a, b = np.array([np.random.normal(c[0], s), np.random.normal(c[1], s)])\n",
    "            # Continue drawing points from the distribution in the range [-1,1]\n",
    "            if abs(a) < 1 and abs(b) < 1:\n",
    "                x.append([a,b])\n",
    "        X.extend(x)\n",
    "    X = np.array(X)[:N]\n",
    "    return X"
   ]
  },
  {
   "cell_type": "code",
   "execution_count": 76,
   "metadata": {},
   "outputs": [],
   "source": [
    "X = init_board_gauss(10,9)"
   ]
  },
  {
   "cell_type": "code",
   "execution_count": 77,
   "metadata": {},
   "outputs": [
    {
     "data": {
      "text/plain": [
       "<matplotlib.collections.PathCollection at 0x149cba8b978>"
      ]
     },
     "execution_count": 77,
     "metadata": {},
     "output_type": "execute_result"
    },
    {
     "data": {
      "image/png": "[encoded data removed]",
      "text/plain": [
       "<matplotlib.figure.Figure at 0x149c9570940>"
      ]
     },
     "metadata": {},
     "output_type": "display_data"
    }
   ],
   "source": [
    "x, y = X.T\n",
    "plt.scatter(x, y)"
   ]
  },
  {
   "cell_type": "code",
   "execution_count": 78,
   "metadata": {},
   "outputs": [],
   "source": [
    "# Euclidean Distance Calculator\n",
    "def dist(a, b):\n",
    "    return np.linalg.norm(a - b)"
   ]
  },
  {
   "cell_type": "code",
   "execution_count": 164,
   "metadata": {},
   "outputs": [],
   "source": [
    "def kmeans(k, epsilon=0):\n",
    "    num_instances, num_features = X.shape\n",
    "    \n",
    "    # Coordinates of random centroids\n",
    "    c1 = X[np.random.randint(0, num_instances - 1)]\n",
    "    c2 = X[np.random.randint(0, num_instances - 1)]\n",
    "    prototypes = np.array(list(zip(c1, c2)), dtype=np.float32)\n",
    "    \n",
    "    # To update centroids' value\n",
    "    prototypes_old = np.zeros(prototypes.shape)\n",
    "    \n",
    "    # Clusters\n",
    "    belongs_to = np.zeros((num_instances, 1))\n",
    "    \n",
    "    # Calculate distance between old and new (error function)\n",
    "    error = dist(prototypes, prototypes_old)\n",
    "    \n",
    "    # Keep track of iterations' number\n",
    "    iteration = 0\n",
    "    \n",
    "    # Do until a certain value (epsilon is 0 in this case)\n",
    "    while error > epsilon:\n",
    "        iteration += 1\n",
    "        \n",
    "        # for each instance in the dataset\n",
    "        for index_instance, instance in enumerate(X):\n",
    "            # Define a distance vector of size k\n",
    "            dist_vec = np.zeros((k,1))\n",
    "            # For each centroid\n",
    "            for index_prototype, prototype in enumerate(prototypes):\n",
    "                # Compute the distance between x and centroid\n",
    "                dist_vec[index_prototype] = dist(prototype, instance)\n",
    "            # Find the smallest distance, assign that distance to a cluster\n",
    "            belongs_to[index_instance, 0] = np.argmin(dist_vec)\n",
    "        \n",
    "        prototypes_old = deepcopy(prototypes)\n",
    "        \n",
    "        # Calculate the average of cluster 1 points and cluster ...k points separately and that will be our new centroids.\n",
    "        for i in range(k):\n",
    "            points = [X[j] for j in range(len(X)) if belongs_to[j] == i]\n",
    "            prototypes[i] = np.mean(points, axis=0)\n",
    "           \n",
    "        #Update error\n",
    "        error = dist(prototypes, prototypes_old)\n",
    "        \n",
    "    return prototypes, belongs_to, iteration"
   ]
  },
  {
   "cell_type": "code",
   "execution_count": 167,
   "metadata": {},
   "outputs": [
    {
     "name": "stdout",
     "output_type": "stream",
     "text": [
      "N° of iterations: 2\n"
     ]
    },
    {
     "data": {
      "text/plain": [
       "<matplotlib.collections.PathCollection at 0x149c9c3c048>"
      ]
     },
     "execution_count": 167,
     "metadata": {},
     "output_type": "execute_result"
    },
    {
     "data": {
      "image/png": "[encoded data removed]",
      "text/plain": [
       "<matplotlib.figure.Figure at 0x149c8c269e8>"
      ]
     },
     "metadata": {},
     "output_type": "display_data"
    }
   ],
   "source": [
    "# Number of clusters\n",
    "k = 2\n",
    "prototypes, belongs_to, iterations = kmeans(k)\n",
    "\n",
    "print(\"N° of iterations: \" + str(iterations))\n",
    "\n",
    "# Plotting\n",
    "colors = ['r', 'g', 'b', 'y', 'c', 'm']\n",
    "fig, ax = plt.subplots()\n",
    "for i in range(k):\n",
    "        points = np.array([X[j] for j in range(len(X)) if belongs_to[j] == i])\n",
    "        ax.scatter(points[:, 0], points[:, 1], c=colors[i])\n",
    "ax.scatter(prototypes[:, 0], prototypes[:, 1], marker='*', s=200, c='#050505')"
   ]
  }
 ],
 "metadata": {
  "kernelspec": {
   "display_name": "Python [default]",
   "language": "python",
   "name": "python3"
  },
  "language_info": {
   "codemirror_mode": {
    "name": "ipython",
    "version": 3
   },
   "file_extension": ".py",
   "mimetype": "text/x-python",
   "name": "python",
   "nbconvert_exporter": "python",
   "pygments_lexer": "ipython3",
   "version": "3.5.3"
  }
 },
 "nbformat": 4,
 "nbformat_minor": 2
}
