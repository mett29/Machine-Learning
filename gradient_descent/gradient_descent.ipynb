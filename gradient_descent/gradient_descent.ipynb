{
 "cells": [
  {
   "cell_type": "markdown",
   "metadata": {},
   "source": [
    "<h1>Linear Regression with Gradient Descent</h1>\n",
    "<h4>Gradient descent is an algorithm that minimizes functions:<br><br>\n",
    "given a function defined by a set of parameters, gradient descent starts with an initial set of parameter values and iteratively moves toward a set of parameter values that minimize the function.</h4>\n",
    "<img src=\"img/gradient_descent.png\" width=\"500\" height=\"500\"></img>"
   ]
  },
  {
   "cell_type": "code",
   "execution_count": 120,
   "metadata": {},
   "outputs": [],
   "source": [
    "from random import randint\n",
    "import matplotlib.pyplot as plt \n",
    "import numpy as np\n",
    "import pandas as pd"
   ]
  },
  {
   "cell_type": "code",
   "execution_count": 129,
   "metadata": {},
   "outputs": [],
   "source": [
    "# Function that generates some random points\n",
    "def generate():\n",
    "    points = [[randint(0, 9) for i in range(2)] for j in range(0, 9)]\n",
    "    return points"
   ]
  },
  {
   "cell_type": "code",
   "execution_count": 123,
   "metadata": {
    "collapsed": true
   },
   "outputs": [],
   "source": [
    "def gradient_descent_step(m_current, b_current, points, learning_rate):\n",
    "    \n",
    "    m = 0\n",
    "    b = 0\n",
    "    \n",
    "    N = float(len(points))\n",
    "\n",
    "    for i in range (0, len(points)):\n",
    "        x = points[i][0]\n",
    "        y = points[i][1]\n",
    "        \n",
    "        guess = m_current * x + b\n",
    "        error = y - guess\n",
    "        \n",
    "        # Adjust the parameters\n",
    "        m = m + error * x * -(2/N)\n",
    "        b = b + error * -(2/N)\n",
    "    \n",
    "    new_m = m_current - (learning_rate * m)\n",
    "    new_b = b_current - (learning_rate * b)\n",
    "        \n",
    "    return [new_m, new_b]"
   ]
  },
  {
   "cell_type": "markdown",
   "metadata": {},
   "source": [
    "<img src=\"img/gradient_descent.gif\"></img>"
   ]
  },
  {
   "cell_type": "code",
   "execution_count": 161,
   "metadata": {},
   "outputs": [
    {
     "data": {
      "image/png": "[encoded data removed]",
      "text/plain": [
       "<matplotlib.figure.Figure at 0x13088ef0>"
      ]
     },
     "metadata": {},
     "output_type": "display_data"
    }
   ],
   "source": [
    "# Initial parameters\n",
    "first_m = 0 # Slope\n",
    "first_b = 0 # Intercept\n",
    "learning_rate = 0.01 # The learning_rate variable controls how large of a step we take downhill during each iteration\n",
    "iterations = 1000\n",
    "points = generate()\n",
    "\n",
    "for i in range(iterations):\n",
    "    m, b = gradient_descent_step(first_m, first_b, points, learning_rate)\n",
    "\n",
    "# Let's see the result, plotting\n",
    "best_fit_x = np.linspace(0, 9)\n",
    "best_fit_y = [m*xx + b for xx in best_fit_x]\n",
    "plt.plot(points, 'x')\n",
    "plt.plot(best_fit_x, best_fit_y, '--')\n",
    "\n",
    "plt.show()"
   ]
  }
 ],
 "metadata": {
  "kernelspec": {
   "display_name": "Python 2",
   "language": "python",
   "name": "python2"
  },
  "language_info": {
   "codemirror_mode": {
    "name": "ipython",
    "version": 2
   },
   "file_extension": ".py",
   "mimetype": "text/x-python",
   "name": "python",
   "nbconvert_exporter": "python",
   "pygments_lexer": "ipython2",
   "version": "2.7.13"
  }
 },
 "nbformat": 4,
 "nbformat_minor": 2
}
