{
 "cells": [
  {
   "cell_type": "markdown",
   "metadata": {},
   "source": [
    "<h1>Linear Regression with Gradient Descent</h1>\n",
    "<h4>Gradient descent is an algorithm that minimizes functions:<br><br>\n",
    "given a function defined by a set of parameters, gradient descent starts with an initial set of parameter values and iteratively moves toward a set of parameter values that minimize the function.</h4>\n",
    "<img src=\"img/gradient_descent.png\" width=\"500\" height=\"500\"></img>\n",
    "\n",
    "<h4> NB: The coefficient and the intercept, obviously, could be calculated in more efficient way. This example is just to demonstrate and understand how GD works ;)</h4>"
   ]
  },
  {
   "cell_type": "code",
   "execution_count": 1,
   "metadata": {
    "collapsed": true
   },
   "outputs": [],
   "source": [
    "from numpy import *"
   ]
  },
  {
   "cell_type": "code",
   "execution_count": 2,
   "metadata": {
    "collapsed": true
   },
   "outputs": [],
   "source": [
    "def gradient_descent_step(m_current, b_current, points, learning_rate):\n",
    "    \n",
    "    m = 0\n",
    "    b = 0\n",
    "    \n",
    "    N = float(len(points))\n",
    "\n",
    "    for i in range (0, len(points)):\n",
    "        x = points[i][0]\n",
    "        y = points[i][1]\n",
    "        \n",
    "        guess = m_current * x + b_current\n",
    "        error = y - guess\n",
    "        \n",
    "        # Adjust the parameters\n",
    "        m += -(2/N) * x * error\n",
    "        b += -(2/N) * error\n",
    "        \n",
    "    new_m = m_current - (learning_rate * m)\n",
    "    new_b = b_current - (learning_rate * b)\n",
    "        \n",
    "    return [new_m, new_b]"
   ]
  },
  {
   "cell_type": "markdown",
   "metadata": {},
   "source": [
    "<img src=\"img/gradient_descent.gif\"></img>"
   ]
  },
  {
   "cell_type": "code",
   "execution_count": 3,
   "metadata": {},
   "outputs": [
    {
     "name": "stdout",
     "output_type": "stream",
     "text": [
      "[1.4777440851894448, 0.088936519937413458]\n"
     ]
    }
   ],
   "source": [
    "# Initial parameters\n",
    "first_m = 0 # Slope\n",
    "first_b = 0 # Intercept\n",
    "learning_rate = 0.0001 # The learning_rate variable controls how large of a step we take downhill during each iteration\n",
    "iterations = 1000\n",
    "\n",
    "points = genfromtxt(\"data.csv\", delimiter=\",\")\n",
    "\n",
    "for i in range(iterations):\n",
    "    if i == 0:\n",
    "        [m, b] = gradient_descent_step(first_m, first_b, points, learning_rate)\n",
    "    else: \n",
    "        [m, b] = gradient_descent_step(m, b, points, learning_rate)\n",
    "\n",
    "print[m, b]"
   ]
  }
 ],
 "metadata": {
  "kernelspec": {
   "display_name": "Python 2",
   "language": "python",
   "name": "python2"
  },
  "language_info": {
   "codemirror_mode": {
    "name": "ipython",
    "version": 2
   },
   "file_extension": ".py",
   "mimetype": "text/x-python",
   "name": "python",
   "nbconvert_exporter": "python",
   "pygments_lexer": "ipython2",
   "version": "2.7.13"
  }
 },
 "nbformat": 4,
 "nbformat_minor": 2
}
