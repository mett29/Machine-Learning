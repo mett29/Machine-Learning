{
 "cells": [
  {
   "cell_type": "markdown",
   "metadata": {},
   "source": [
    "<h1>Linear Regression with Ordinary Least Squares</h1>\n",
    "<p>Linear regression consists of finding the best-fitting straight line through the points. The best-fitting line is called a regression line.</p>\n",
    "\n",
    "<img src=\"img/linear_regression.png\" height=\"500\" width=\"500\"></img>\n",
    "<h2>NB:</h2>\n",
    "<img src=\"img/trust_lin_reg.png\" height=\"500\" width=\"500\"></img>"
   ]
  },
  {
   "cell_type": "code",
   "execution_count": 35,
   "metadata": {
    "collapsed": true
   },
   "outputs": [],
   "source": [
    "from random import random\n",
    "import matplotlib.pyplot as plt "
   ]
  },
  {
   "cell_type": "code",
   "execution_count": 81,
   "metadata": {
    "collapsed": true
   },
   "outputs": [],
   "source": [
    "# Function that generates some random points\n",
    "def generate():\n",
    "    x_points = [randint(0,9) for p in range(0,9)]\n",
    "    y_points = [randint(0,9) for p in range(0,9)]\n",
    "    print x_points\n",
    "    print y_points\n",
    "    #plt.plot(x_points, y_points, 'ro')\n",
    "    #plt.show()\n",
    "    return (x_points, y_points)"
   ]
  },
  {
   "cell_type": "markdown",
   "metadata": {},
   "source": [
    "<h3>Where slope (m) is: </h3>\n",
    "<img src=\"img/slope.png\" height=\"200\" width=\"200\"></img><br>\n",
    "<h3>And intercept (b) is: </h3>\n",
    "<img src=\"img/intercept.png\" height=\"100\" width=\"100\"></img><br>"
   ]
  },
  {
   "cell_type": "code",
   "execution_count": 82,
   "metadata": {
    "collapsed": true
   },
   "outputs": [],
   "source": [
    "def linear_regression():\n",
    "    xsum = 0\n",
    "    ysum = 0\n",
    "    for i in range(len(x_points)):\n",
    "        xsum += x_points[i]\n",
    "        ysum += y_points[i]\n",
    "    xmean = xsum / len(x_points)\n",
    "    ymean = ysum / len(y_points)\n",
    "\n",
    "    num = 0\n",
    "    den = 0\n",
    "    for i in range(len(x_points)):\n",
    "        x = x_points[i]\n",
    "        y = y_points[i]\n",
    "        num += (x - xmean) * (y - ymean)\n",
    "        den += (x - xmean) * (x - xmean)\n",
    "    m = num / den\n",
    "    b = ymean - m * xmean\n",
    "    return (m, b)"
   ]
  },
  {
   "cell_type": "code",
   "execution_count": 83,
   "metadata": {},
   "outputs": [
    {
     "name": "stdout",
     "output_type": "stream",
     "text": [
      "[3, 7, 9, 8, 4, 0, 4, 9, 6]\n",
      "[3, 3, 9, 0, 1, 8, 6, 3, 5]\n"
     ]
    },
    {
     "data": {
      "image/png": "[encoded data removed]",
      "text/plain": [
       "<matplotlib.figure.Figure at 0xa4f4da0>"
      ]
     },
     "metadata": {},
     "output_type": "display_data"
    }
   ],
   "source": [
    "# Let's see the result\n",
    "x_points, y_points = generate()\n",
    "m, b = linear_regression()\n",
    "X = np.array([x/10. for x in range(100)])\n",
    "fit_line = m*X + b\n",
    "\n",
    "plt.plot(x_points, y_points, 'ro')\n",
    "plt.plot(line_x, fit_line, '--')\n",
    "plt.show()"
   ]
  }
 ],
 "metadata": {
  "kernelspec": {
   "display_name": "Python 2",
   "language": "python",
   "name": "python2"
  },
  "language_info": {
   "codemirror_mode": {
    "name": "ipython",
    "version": 2
   },
   "file_extension": ".py",
   "mimetype": "text/x-python",
   "name": "python",
   "nbconvert_exporter": "python",
   "pygments_lexer": "ipython2",
   "version": "2.7.13"
  }
 },
 "nbformat": 4,
 "nbformat_minor": 2
}
